{
 "cells": [
  {
   "cell_type": "code",
   "execution_count": 1,
   "metadata": {},
   "outputs": [
    {
     "name": "stdout",
     "output_type": "stream",
     "text": [
      "Requirement already satisfied: llama-index-agent-openai in /Users/aishwaryab/miniconda3/lib/python3.11/site-packages (0.1.1)\n",
      "Requirement already satisfied: llama-index-core<0.11.0,>=0.10.1 in /Users/aishwaryab/miniconda3/lib/python3.11/site-packages (from llama-index-agent-openai) (0.10.5)\n",
      "Requirement already satisfied: llama-index-llms-openai<0.2.0,>=0.1.1 in /Users/aishwaryab/miniconda3/lib/python3.11/site-packages (from llama-index-agent-openai) (0.1.1)\n",
      "Requirement already satisfied: PyYAML>=6.0.1 in /Users/aishwaryab/miniconda3/lib/python3.11/site-packages (from llama-index-core<0.11.0,>=0.10.1->llama-index-agent-openai) (6.0.1)\n",
      "Requirement already satisfied: SQLAlchemy>=1.4.49 in /Users/aishwaryab/miniconda3/lib/python3.11/site-packages (from SQLAlchemy[asyncio]>=1.4.49->llama-index-core<0.11.0,>=0.10.1->llama-index-agent-openai) (2.0.27)\n",
      "Requirement already satisfied: aiohttp<4.0.0,>=3.8.6 in /Users/aishwaryab/miniconda3/lib/python3.11/site-packages (from llama-index-core<0.11.0,>=0.10.1->llama-index-agent-openai) (3.9.3)\n",
      "Requirement already satisfied: dataclasses-json in /Users/aishwaryab/miniconda3/lib/python3.11/site-packages (from llama-index-core<0.11.0,>=0.10.1->llama-index-agent-openai) (0.6.4)\n",
      "Requirement already satisfied: deprecated>=1.2.9.3 in /Users/aishwaryab/miniconda3/lib/python3.11/site-packages (from llama-index-core<0.11.0,>=0.10.1->llama-index-agent-openai) (1.2.14)\n",
      "Requirement already satisfied: dirtyjson<2.0.0,>=1.0.8 in /Users/aishwaryab/miniconda3/lib/python3.11/site-packages (from llama-index-core<0.11.0,>=0.10.1->llama-index-agent-openai) (1.0.8)\n",
      "Requirement already satisfied: fsspec>=2023.5.0 in /Users/aishwaryab/miniconda3/lib/python3.11/site-packages (from llama-index-core<0.11.0,>=0.10.1->llama-index-agent-openai) (2024.2.0)\n",
      "Requirement already satisfied: httpx in /Users/aishwaryab/miniconda3/lib/python3.11/site-packages (from llama-index-core<0.11.0,>=0.10.1->llama-index-agent-openai) (0.26.0)\n",
      "Requirement already satisfied: nest-asyncio<2.0.0,>=1.5.8 in /Users/aishwaryab/miniconda3/lib/python3.11/site-packages (from llama-index-core<0.11.0,>=0.10.1->llama-index-agent-openai) (1.6.0)\n",
      "Requirement already satisfied: networkx>=3.0 in /Users/aishwaryab/miniconda3/lib/python3.11/site-packages (from llama-index-core<0.11.0,>=0.10.1->llama-index-agent-openai) (3.2.1)\n",
      "Requirement already satisfied: nltk<4.0.0,>=3.8.1 in /Users/aishwaryab/miniconda3/lib/python3.11/site-packages (from llama-index-core<0.11.0,>=0.10.1->llama-index-agent-openai) (3.8.1)\n",
      "Requirement already satisfied: numpy in /Users/aishwaryab/miniconda3/lib/python3.11/site-packages (from llama-index-core<0.11.0,>=0.10.1->llama-index-agent-openai) (1.26.3)\n",
      "Requirement already satisfied: openai>=1.1.0 in /Users/aishwaryab/miniconda3/lib/python3.11/site-packages (from llama-index-core<0.11.0,>=0.10.1->llama-index-agent-openai) (1.12.0)\n",
      "Requirement already satisfied: pandas in /Users/aishwaryab/miniconda3/lib/python3.11/site-packages (from llama-index-core<0.11.0,>=0.10.1->llama-index-agent-openai) (2.1.4)\n",
      "Requirement already satisfied: pillow>=9.0.0 in /Users/aishwaryab/miniconda3/lib/python3.11/site-packages (from llama-index-core<0.11.0,>=0.10.1->llama-index-agent-openai) (10.0.1)\n",
      "Requirement already satisfied: requests>=2.31.0 in /Users/aishwaryab/miniconda3/lib/python3.11/site-packages (from llama-index-core<0.11.0,>=0.10.1->llama-index-agent-openai) (2.31.0)\n",
      "Requirement already satisfied: tenacity<9.0.0,>=8.2.0 in /Users/aishwaryab/miniconda3/lib/python3.11/site-packages (from llama-index-core<0.11.0,>=0.10.1->llama-index-agent-openai) (8.2.3)\n",
      "Requirement already satisfied: tiktoken>=0.3.3 in /Users/aishwaryab/miniconda3/lib/python3.11/site-packages (from llama-index-core<0.11.0,>=0.10.1->llama-index-agent-openai) (0.6.0)\n",
      "Requirement already satisfied: tqdm<5.0.0,>=4.66.1 in /Users/aishwaryab/miniconda3/lib/python3.11/site-packages (from llama-index-core<0.11.0,>=0.10.1->llama-index-agent-openai) (4.66.2)\n",
      "Requirement already satisfied: typing-extensions>=4.5.0 in /Users/aishwaryab/miniconda3/lib/python3.11/site-packages (from llama-index-core<0.11.0,>=0.10.1->llama-index-agent-openai) (4.9.0)\n",
      "Requirement already satisfied: typing-inspect>=0.8.0 in /Users/aishwaryab/miniconda3/lib/python3.11/site-packages (from llama-index-core<0.11.0,>=0.10.1->llama-index-agent-openai) (0.9.0)\n",
      "Requirement already satisfied: aiosignal>=1.1.2 in /Users/aishwaryab/miniconda3/lib/python3.11/site-packages (from aiohttp<4.0.0,>=3.8.6->llama-index-core<0.11.0,>=0.10.1->llama-index-agent-openai) (1.3.1)\n",
      "Requirement already satisfied: attrs>=17.3.0 in /Users/aishwaryab/miniconda3/lib/python3.11/site-packages (from aiohttp<4.0.0,>=3.8.6->llama-index-core<0.11.0,>=0.10.1->llama-index-agent-openai) (23.1.0)\n",
      "Requirement already satisfied: frozenlist>=1.1.1 in /Users/aishwaryab/miniconda3/lib/python3.11/site-packages (from aiohttp<4.0.0,>=3.8.6->llama-index-core<0.11.0,>=0.10.1->llama-index-agent-openai) (1.4.1)\n",
      "Requirement already satisfied: multidict<7.0,>=4.5 in /Users/aishwaryab/miniconda3/lib/python3.11/site-packages (from aiohttp<4.0.0,>=3.8.6->llama-index-core<0.11.0,>=0.10.1->llama-index-agent-openai) (6.0.5)\n",
      "Requirement already satisfied: yarl<2.0,>=1.0 in /Users/aishwaryab/miniconda3/lib/python3.11/site-packages (from aiohttp<4.0.0,>=3.8.6->llama-index-core<0.11.0,>=0.10.1->llama-index-agent-openai) (1.9.4)\n",
      "Requirement already satisfied: wrapt<2,>=1.10 in /Users/aishwaryab/miniconda3/lib/python3.11/site-packages (from deprecated>=1.2.9.3->llama-index-core<0.11.0,>=0.10.1->llama-index-agent-openai) (1.16.0)\n",
      "Requirement already satisfied: click in /Users/aishwaryab/miniconda3/lib/python3.11/site-packages (from nltk<4.0.0,>=3.8.1->llama-index-core<0.11.0,>=0.10.1->llama-index-agent-openai) (8.1.7)\n",
      "Requirement already satisfied: joblib in /Users/aishwaryab/miniconda3/lib/python3.11/site-packages (from nltk<4.0.0,>=3.8.1->llama-index-core<0.11.0,>=0.10.1->llama-index-agent-openai) (1.3.2)\n",
      "Requirement already satisfied: regex>=2021.8.3 in /Users/aishwaryab/miniconda3/lib/python3.11/site-packages (from nltk<4.0.0,>=3.8.1->llama-index-core<0.11.0,>=0.10.1->llama-index-agent-openai) (2023.12.25)\n",
      "Requirement already satisfied: anyio<5,>=3.5.0 in /Users/aishwaryab/miniconda3/lib/python3.11/site-packages (from openai>=1.1.0->llama-index-core<0.11.0,>=0.10.1->llama-index-agent-openai) (3.5.0)\n",
      "Requirement already satisfied: distro<2,>=1.7.0 in /Users/aishwaryab/miniconda3/lib/python3.11/site-packages (from openai>=1.1.0->llama-index-core<0.11.0,>=0.10.1->llama-index-agent-openai) (1.8.0)\n",
      "Requirement already satisfied: pydantic<3,>=1.9.0 in /Users/aishwaryab/miniconda3/lib/python3.11/site-packages (from openai>=1.1.0->llama-index-core<0.11.0,>=0.10.1->llama-index-agent-openai) (2.6.1)\n",
      "Requirement already satisfied: sniffio in /Users/aishwaryab/miniconda3/lib/python3.11/site-packages (from openai>=1.1.0->llama-index-core<0.11.0,>=0.10.1->llama-index-agent-openai) (1.3.0)\n",
      "Requirement already satisfied: certifi in /Users/aishwaryab/miniconda3/lib/python3.11/site-packages (from httpx->llama-index-core<0.11.0,>=0.10.1->llama-index-agent-openai) (2023.11.17)\n",
      "Requirement already satisfied: httpcore==1.* in /Users/aishwaryab/miniconda3/lib/python3.11/site-packages (from httpx->llama-index-core<0.11.0,>=0.10.1->llama-index-agent-openai) (1.0.3)\n",
      "Requirement already satisfied: idna in /Users/aishwaryab/miniconda3/lib/python3.11/site-packages (from httpx->llama-index-core<0.11.0,>=0.10.1->llama-index-agent-openai) (3.4)\n",
      "Requirement already satisfied: h11<0.15,>=0.13 in /Users/aishwaryab/miniconda3/lib/python3.11/site-packages (from httpcore==1.*->httpx->llama-index-core<0.11.0,>=0.10.1->llama-index-agent-openai) (0.14.0)\n",
      "Requirement already satisfied: charset-normalizer<4,>=2 in /Users/aishwaryab/miniconda3/lib/python3.11/site-packages (from requests>=2.31.0->llama-index-core<0.11.0,>=0.10.1->llama-index-agent-openai) (2.0.4)\n",
      "Requirement already satisfied: urllib3<3,>=1.21.1 in /Users/aishwaryab/miniconda3/lib/python3.11/site-packages (from requests>=2.31.0->llama-index-core<0.11.0,>=0.10.1->llama-index-agent-openai) (1.26.18)\n",
      "Requirement already satisfied: greenlet!=0.4.17 in /Users/aishwaryab/miniconda3/lib/python3.11/site-packages (from SQLAlchemy>=1.4.49->SQLAlchemy[asyncio]>=1.4.49->llama-index-core<0.11.0,>=0.10.1->llama-index-agent-openai) (3.0.3)\n",
      "Requirement already satisfied: mypy-extensions>=0.3.0 in /Users/aishwaryab/miniconda3/lib/python3.11/site-packages (from typing-inspect>=0.8.0->llama-index-core<0.11.0,>=0.10.1->llama-index-agent-openai) (1.0.0)\n",
      "Requirement already satisfied: marshmallow<4.0.0,>=3.18.0 in /Users/aishwaryab/miniconda3/lib/python3.11/site-packages (from dataclasses-json->llama-index-core<0.11.0,>=0.10.1->llama-index-agent-openai) (3.20.2)\n",
      "Requirement already satisfied: python-dateutil>=2.8.2 in /Users/aishwaryab/miniconda3/lib/python3.11/site-packages (from pandas->llama-index-core<0.11.0,>=0.10.1->llama-index-agent-openai) (2.8.2)\n",
      "Requirement already satisfied: pytz>=2020.1 in /Users/aishwaryab/miniconda3/lib/python3.11/site-packages (from pandas->llama-index-core<0.11.0,>=0.10.1->llama-index-agent-openai) (2023.3.post1)\n",
      "Requirement already satisfied: tzdata>=2022.1 in /Users/aishwaryab/miniconda3/lib/python3.11/site-packages (from pandas->llama-index-core<0.11.0,>=0.10.1->llama-index-agent-openai) (2023.3)\n",
      "Requirement already satisfied: packaging>=17.0 in /Users/aishwaryab/miniconda3/lib/python3.11/site-packages (from marshmallow<4.0.0,>=3.18.0->dataclasses-json->llama-index-core<0.11.0,>=0.10.1->llama-index-agent-openai) (23.1)\n",
      "Requirement already satisfied: annotated-types>=0.4.0 in /Users/aishwaryab/miniconda3/lib/python3.11/site-packages (from pydantic<3,>=1.9.0->openai>=1.1.0->llama-index-core<0.11.0,>=0.10.1->llama-index-agent-openai) (0.6.0)\n",
      "Requirement already satisfied: pydantic-core==2.16.2 in /Users/aishwaryab/miniconda3/lib/python3.11/site-packages (from pydantic<3,>=1.9.0->openai>=1.1.0->llama-index-core<0.11.0,>=0.10.1->llama-index-agent-openai) (2.16.2)\n",
      "Requirement already satisfied: six>=1.5 in /Users/aishwaryab/miniconda3/lib/python3.11/site-packages (from python-dateutil>=2.8.2->pandas->llama-index-core<0.11.0,>=0.10.1->llama-index-agent-openai) (1.16.0)\n",
      "Note: you may need to restart the kernel to use updated packages.\n",
      "Requirement already satisfied: llama-index-llms-openai in /Users/aishwaryab/miniconda3/lib/python3.11/site-packages (0.1.1)\n",
      "Requirement already satisfied: llama-index-core<0.11.0,>=0.10.1 in /Users/aishwaryab/miniconda3/lib/python3.11/site-packages (from llama-index-llms-openai) (0.10.5)\n",
      "Requirement already satisfied: PyYAML>=6.0.1 in /Users/aishwaryab/miniconda3/lib/python3.11/site-packages (from llama-index-core<0.11.0,>=0.10.1->llama-index-llms-openai) (6.0.1)\n",
      "Requirement already satisfied: SQLAlchemy>=1.4.49 in /Users/aishwaryab/miniconda3/lib/python3.11/site-packages (from SQLAlchemy[asyncio]>=1.4.49->llama-index-core<0.11.0,>=0.10.1->llama-index-llms-openai) (2.0.27)\n",
      "Requirement already satisfied: aiohttp<4.0.0,>=3.8.6 in /Users/aishwaryab/miniconda3/lib/python3.11/site-packages (from llama-index-core<0.11.0,>=0.10.1->llama-index-llms-openai) (3.9.3)\n",
      "Requirement already satisfied: dataclasses-json in /Users/aishwaryab/miniconda3/lib/python3.11/site-packages (from llama-index-core<0.11.0,>=0.10.1->llama-index-llms-openai) (0.6.4)\n",
      "Requirement already satisfied: deprecated>=1.2.9.3 in /Users/aishwaryab/miniconda3/lib/python3.11/site-packages (from llama-index-core<0.11.0,>=0.10.1->llama-index-llms-openai) (1.2.14)\n",
      "Requirement already satisfied: dirtyjson<2.0.0,>=1.0.8 in /Users/aishwaryab/miniconda3/lib/python3.11/site-packages (from llama-index-core<0.11.0,>=0.10.1->llama-index-llms-openai) (1.0.8)\n",
      "Requirement already satisfied: fsspec>=2023.5.0 in /Users/aishwaryab/miniconda3/lib/python3.11/site-packages (from llama-index-core<0.11.0,>=0.10.1->llama-index-llms-openai) (2024.2.0)\n",
      "Requirement already satisfied: httpx in /Users/aishwaryab/miniconda3/lib/python3.11/site-packages (from llama-index-core<0.11.0,>=0.10.1->llama-index-llms-openai) (0.26.0)\n",
      "Requirement already satisfied: nest-asyncio<2.0.0,>=1.5.8 in /Users/aishwaryab/miniconda3/lib/python3.11/site-packages (from llama-index-core<0.11.0,>=0.10.1->llama-index-llms-openai) (1.6.0)\n",
      "Requirement already satisfied: networkx>=3.0 in /Users/aishwaryab/miniconda3/lib/python3.11/site-packages (from llama-index-core<0.11.0,>=0.10.1->llama-index-llms-openai) (3.2.1)\n",
      "Requirement already satisfied: nltk<4.0.0,>=3.8.1 in /Users/aishwaryab/miniconda3/lib/python3.11/site-packages (from llama-index-core<0.11.0,>=0.10.1->llama-index-llms-openai) (3.8.1)\n",
      "Requirement already satisfied: numpy in /Users/aishwaryab/miniconda3/lib/python3.11/site-packages (from llama-index-core<0.11.0,>=0.10.1->llama-index-llms-openai) (1.26.3)\n",
      "Requirement already satisfied: openai>=1.1.0 in /Users/aishwaryab/miniconda3/lib/python3.11/site-packages (from llama-index-core<0.11.0,>=0.10.1->llama-index-llms-openai) (1.12.0)\n",
      "Requirement already satisfied: pandas in /Users/aishwaryab/miniconda3/lib/python3.11/site-packages (from llama-index-core<0.11.0,>=0.10.1->llama-index-llms-openai) (2.1.4)\n",
      "Requirement already satisfied: pillow>=9.0.0 in /Users/aishwaryab/miniconda3/lib/python3.11/site-packages (from llama-index-core<0.11.0,>=0.10.1->llama-index-llms-openai) (10.0.1)\n",
      "Requirement already satisfied: requests>=2.31.0 in /Users/aishwaryab/miniconda3/lib/python3.11/site-packages (from llama-index-core<0.11.0,>=0.10.1->llama-index-llms-openai) (2.31.0)\n",
      "Requirement already satisfied: tenacity<9.0.0,>=8.2.0 in /Users/aishwaryab/miniconda3/lib/python3.11/site-packages (from llama-index-core<0.11.0,>=0.10.1->llama-index-llms-openai) (8.2.3)\n",
      "Requirement already satisfied: tiktoken>=0.3.3 in /Users/aishwaryab/miniconda3/lib/python3.11/site-packages (from llama-index-core<0.11.0,>=0.10.1->llama-index-llms-openai) (0.6.0)\n",
      "Requirement already satisfied: tqdm<5.0.0,>=4.66.1 in /Users/aishwaryab/miniconda3/lib/python3.11/site-packages (from llama-index-core<0.11.0,>=0.10.1->llama-index-llms-openai) (4.66.2)\n",
      "Requirement already satisfied: typing-extensions>=4.5.0 in /Users/aishwaryab/miniconda3/lib/python3.11/site-packages (from llama-index-core<0.11.0,>=0.10.1->llama-index-llms-openai) (4.9.0)\n",
      "Requirement already satisfied: typing-inspect>=0.8.0 in /Users/aishwaryab/miniconda3/lib/python3.11/site-packages (from llama-index-core<0.11.0,>=0.10.1->llama-index-llms-openai) (0.9.0)\n",
      "Requirement already satisfied: aiosignal>=1.1.2 in /Users/aishwaryab/miniconda3/lib/python3.11/site-packages (from aiohttp<4.0.0,>=3.8.6->llama-index-core<0.11.0,>=0.10.1->llama-index-llms-openai) (1.3.1)\n",
      "Requirement already satisfied: attrs>=17.3.0 in /Users/aishwaryab/miniconda3/lib/python3.11/site-packages (from aiohttp<4.0.0,>=3.8.6->llama-index-core<0.11.0,>=0.10.1->llama-index-llms-openai) (23.1.0)\n",
      "Requirement already satisfied: frozenlist>=1.1.1 in /Users/aishwaryab/miniconda3/lib/python3.11/site-packages (from aiohttp<4.0.0,>=3.8.6->llama-index-core<0.11.0,>=0.10.1->llama-index-llms-openai) (1.4.1)\n",
      "Requirement already satisfied: multidict<7.0,>=4.5 in /Users/aishwaryab/miniconda3/lib/python3.11/site-packages (from aiohttp<4.0.0,>=3.8.6->llama-index-core<0.11.0,>=0.10.1->llama-index-llms-openai) (6.0.5)\n",
      "Requirement already satisfied: yarl<2.0,>=1.0 in /Users/aishwaryab/miniconda3/lib/python3.11/site-packages (from aiohttp<4.0.0,>=3.8.6->llama-index-core<0.11.0,>=0.10.1->llama-index-llms-openai) (1.9.4)\n",
      "Requirement already satisfied: wrapt<2,>=1.10 in /Users/aishwaryab/miniconda3/lib/python3.11/site-packages (from deprecated>=1.2.9.3->llama-index-core<0.11.0,>=0.10.1->llama-index-llms-openai) (1.16.0)\n",
      "Requirement already satisfied: click in /Users/aishwaryab/miniconda3/lib/python3.11/site-packages (from nltk<4.0.0,>=3.8.1->llama-index-core<0.11.0,>=0.10.1->llama-index-llms-openai) (8.1.7)\n",
      "Requirement already satisfied: joblib in /Users/aishwaryab/miniconda3/lib/python3.11/site-packages (from nltk<4.0.0,>=3.8.1->llama-index-core<0.11.0,>=0.10.1->llama-index-llms-openai) (1.3.2)\n",
      "Requirement already satisfied: regex>=2021.8.3 in /Users/aishwaryab/miniconda3/lib/python3.11/site-packages (from nltk<4.0.0,>=3.8.1->llama-index-core<0.11.0,>=0.10.1->llama-index-llms-openai) (2023.12.25)\n",
      "Requirement already satisfied: anyio<5,>=3.5.0 in /Users/aishwaryab/miniconda3/lib/python3.11/site-packages (from openai>=1.1.0->llama-index-core<0.11.0,>=0.10.1->llama-index-llms-openai) (3.5.0)\n",
      "Requirement already satisfied: distro<2,>=1.7.0 in /Users/aishwaryab/miniconda3/lib/python3.11/site-packages (from openai>=1.1.0->llama-index-core<0.11.0,>=0.10.1->llama-index-llms-openai) (1.8.0)\n",
      "Requirement already satisfied: pydantic<3,>=1.9.0 in /Users/aishwaryab/miniconda3/lib/python3.11/site-packages (from openai>=1.1.0->llama-index-core<0.11.0,>=0.10.1->llama-index-llms-openai) (2.6.1)\n",
      "Requirement already satisfied: sniffio in /Users/aishwaryab/miniconda3/lib/python3.11/site-packages (from openai>=1.1.0->llama-index-core<0.11.0,>=0.10.1->llama-index-llms-openai) (1.3.0)\n",
      "Requirement already satisfied: certifi in /Users/aishwaryab/miniconda3/lib/python3.11/site-packages (from httpx->llama-index-core<0.11.0,>=0.10.1->llama-index-llms-openai) (2023.11.17)\n",
      "Requirement already satisfied: httpcore==1.* in /Users/aishwaryab/miniconda3/lib/python3.11/site-packages (from httpx->llama-index-core<0.11.0,>=0.10.1->llama-index-llms-openai) (1.0.3)\n",
      "Requirement already satisfied: idna in /Users/aishwaryab/miniconda3/lib/python3.11/site-packages (from httpx->llama-index-core<0.11.0,>=0.10.1->llama-index-llms-openai) (3.4)\n",
      "Requirement already satisfied: h11<0.15,>=0.13 in /Users/aishwaryab/miniconda3/lib/python3.11/site-packages (from httpcore==1.*->httpx->llama-index-core<0.11.0,>=0.10.1->llama-index-llms-openai) (0.14.0)\n",
      "Requirement already satisfied: charset-normalizer<4,>=2 in /Users/aishwaryab/miniconda3/lib/python3.11/site-packages (from requests>=2.31.0->llama-index-core<0.11.0,>=0.10.1->llama-index-llms-openai) (2.0.4)\n",
      "Requirement already satisfied: urllib3<3,>=1.21.1 in /Users/aishwaryab/miniconda3/lib/python3.11/site-packages (from requests>=2.31.0->llama-index-core<0.11.0,>=0.10.1->llama-index-llms-openai) (1.26.18)\n",
      "Requirement already satisfied: greenlet!=0.4.17 in /Users/aishwaryab/miniconda3/lib/python3.11/site-packages (from SQLAlchemy>=1.4.49->SQLAlchemy[asyncio]>=1.4.49->llama-index-core<0.11.0,>=0.10.1->llama-index-llms-openai) (3.0.3)\n",
      "Requirement already satisfied: mypy-extensions>=0.3.0 in /Users/aishwaryab/miniconda3/lib/python3.11/site-packages (from typing-inspect>=0.8.0->llama-index-core<0.11.0,>=0.10.1->llama-index-llms-openai) (1.0.0)\n",
      "Requirement already satisfied: marshmallow<4.0.0,>=3.18.0 in /Users/aishwaryab/miniconda3/lib/python3.11/site-packages (from dataclasses-json->llama-index-core<0.11.0,>=0.10.1->llama-index-llms-openai) (3.20.2)\n",
      "Requirement already satisfied: python-dateutil>=2.8.2 in /Users/aishwaryab/miniconda3/lib/python3.11/site-packages (from pandas->llama-index-core<0.11.0,>=0.10.1->llama-index-llms-openai) (2.8.2)\n",
      "Requirement already satisfied: pytz>=2020.1 in /Users/aishwaryab/miniconda3/lib/python3.11/site-packages (from pandas->llama-index-core<0.11.0,>=0.10.1->llama-index-llms-openai) (2023.3.post1)\n",
      "Requirement already satisfied: tzdata>=2022.1 in /Users/aishwaryab/miniconda3/lib/python3.11/site-packages (from pandas->llama-index-core<0.11.0,>=0.10.1->llama-index-llms-openai) (2023.3)\n",
      "Requirement already satisfied: packaging>=17.0 in /Users/aishwaryab/miniconda3/lib/python3.11/site-packages (from marshmallow<4.0.0,>=3.18.0->dataclasses-json->llama-index-core<0.11.0,>=0.10.1->llama-index-llms-openai) (23.1)\n",
      "Requirement already satisfied: annotated-types>=0.4.0 in /Users/aishwaryab/miniconda3/lib/python3.11/site-packages (from pydantic<3,>=1.9.0->openai>=1.1.0->llama-index-core<0.11.0,>=0.10.1->llama-index-llms-openai) (0.6.0)\n",
      "Requirement already satisfied: pydantic-core==2.16.2 in /Users/aishwaryab/miniconda3/lib/python3.11/site-packages (from pydantic<3,>=1.9.0->openai>=1.1.0->llama-index-core<0.11.0,>=0.10.1->llama-index-llms-openai) (2.16.2)\n",
      "Requirement already satisfied: six>=1.5 in /Users/aishwaryab/miniconda3/lib/python3.11/site-packages (from python-dateutil>=2.8.2->pandas->llama-index-core<0.11.0,>=0.10.1->llama-index-llms-openai) (1.16.0)\n",
      "Note: you may need to restart the kernel to use updated packages.\n"
     ]
    }
   ],
   "source": [
    "%pip install llama-index-agent-openai\n",
    "%pip install llama-index-llms-openai"
   ]
  },
  {
   "cell_type": "code",
   "execution_count": 2,
   "metadata": {},
   "outputs": [
    {
     "name": "stdout",
     "output_type": "stream",
     "text": [
      "Requirement already satisfied: llama-index in /Users/aishwaryab/miniconda3/lib/python3.11/site-packages (0.10.5)\n",
      "Requirement already satisfied: llama-index-agent-openai<0.2.0,>=0.1.0 in /Users/aishwaryab/miniconda3/lib/python3.11/site-packages (from llama-index) (0.1.1)\n",
      "Requirement already satisfied: llama-index-core<0.11.0,>=0.10.0 in /Users/aishwaryab/miniconda3/lib/python3.11/site-packages (from llama-index) (0.10.5)\n",
      "Requirement already satisfied: llama-index-embeddings-openai<0.2.0,>=0.1.0 in /Users/aishwaryab/miniconda3/lib/python3.11/site-packages (from llama-index) (0.1.1)\n",
      "Requirement already satisfied: llama-index-legacy<0.10.0,>=0.9.48 in /Users/aishwaryab/miniconda3/lib/python3.11/site-packages (from llama-index) (0.9.48)\n",
      "Requirement already satisfied: llama-index-llms-openai<0.2.0,>=0.1.0 in /Users/aishwaryab/miniconda3/lib/python3.11/site-packages (from llama-index) (0.1.1)\n",
      "Requirement already satisfied: llama-index-multi-modal-llms-openai<0.2.0,>=0.1.0 in /Users/aishwaryab/miniconda3/lib/python3.11/site-packages (from llama-index) (0.1.1)\n",
      "Requirement already satisfied: llama-index-program-openai<0.2.0,>=0.1.0 in /Users/aishwaryab/miniconda3/lib/python3.11/site-packages (from llama-index) (0.1.1)\n",
      "Requirement already satisfied: llama-index-question-gen-openai<0.2.0,>=0.1.0 in /Users/aishwaryab/miniconda3/lib/python3.11/site-packages (from llama-index) (0.1.1)\n",
      "Requirement already satisfied: llama-index-readers-file<0.2.0,>=0.1.0 in /Users/aishwaryab/miniconda3/lib/python3.11/site-packages (from llama-index) (0.1.3)\n",
      "Requirement already satisfied: PyYAML>=6.0.1 in /Users/aishwaryab/miniconda3/lib/python3.11/site-packages (from llama-index-core<0.11.0,>=0.10.0->llama-index) (6.0.1)\n",
      "Requirement already satisfied: SQLAlchemy>=1.4.49 in /Users/aishwaryab/miniconda3/lib/python3.11/site-packages (from SQLAlchemy[asyncio]>=1.4.49->llama-index-core<0.11.0,>=0.10.0->llama-index) (2.0.27)\n",
      "Requirement already satisfied: aiohttp<4.0.0,>=3.8.6 in /Users/aishwaryab/miniconda3/lib/python3.11/site-packages (from llama-index-core<0.11.0,>=0.10.0->llama-index) (3.9.3)\n",
      "Requirement already satisfied: dataclasses-json in /Users/aishwaryab/miniconda3/lib/python3.11/site-packages (from llama-index-core<0.11.0,>=0.10.0->llama-index) (0.6.4)\n",
      "Requirement already satisfied: deprecated>=1.2.9.3 in /Users/aishwaryab/miniconda3/lib/python3.11/site-packages (from llama-index-core<0.11.0,>=0.10.0->llama-index) (1.2.14)\n",
      "Requirement already satisfied: dirtyjson<2.0.0,>=1.0.8 in /Users/aishwaryab/miniconda3/lib/python3.11/site-packages (from llama-index-core<0.11.0,>=0.10.0->llama-index) (1.0.8)\n",
      "Requirement already satisfied: fsspec>=2023.5.0 in /Users/aishwaryab/miniconda3/lib/python3.11/site-packages (from llama-index-core<0.11.0,>=0.10.0->llama-index) (2024.2.0)\n",
      "Requirement already satisfied: httpx in /Users/aishwaryab/miniconda3/lib/python3.11/site-packages (from llama-index-core<0.11.0,>=0.10.0->llama-index) (0.26.0)\n",
      "Requirement already satisfied: nest-asyncio<2.0.0,>=1.5.8 in /Users/aishwaryab/miniconda3/lib/python3.11/site-packages (from llama-index-core<0.11.0,>=0.10.0->llama-index) (1.6.0)\n",
      "Requirement already satisfied: networkx>=3.0 in /Users/aishwaryab/miniconda3/lib/python3.11/site-packages (from llama-index-core<0.11.0,>=0.10.0->llama-index) (3.2.1)\n",
      "Requirement already satisfied: nltk<4.0.0,>=3.8.1 in /Users/aishwaryab/miniconda3/lib/python3.11/site-packages (from llama-index-core<0.11.0,>=0.10.0->llama-index) (3.8.1)\n",
      "Requirement already satisfied: numpy in /Users/aishwaryab/miniconda3/lib/python3.11/site-packages (from llama-index-core<0.11.0,>=0.10.0->llama-index) (1.26.3)\n",
      "Requirement already satisfied: openai>=1.1.0 in /Users/aishwaryab/miniconda3/lib/python3.11/site-packages (from llama-index-core<0.11.0,>=0.10.0->llama-index) (1.12.0)\n",
      "Requirement already satisfied: pandas in /Users/aishwaryab/miniconda3/lib/python3.11/site-packages (from llama-index-core<0.11.0,>=0.10.0->llama-index) (2.1.4)\n",
      "Requirement already satisfied: pillow>=9.0.0 in /Users/aishwaryab/miniconda3/lib/python3.11/site-packages (from llama-index-core<0.11.0,>=0.10.0->llama-index) (10.0.1)\n",
      "Requirement already satisfied: requests>=2.31.0 in /Users/aishwaryab/miniconda3/lib/python3.11/site-packages (from llama-index-core<0.11.0,>=0.10.0->llama-index) (2.31.0)\n",
      "Requirement already satisfied: tenacity<9.0.0,>=8.2.0 in /Users/aishwaryab/miniconda3/lib/python3.11/site-packages (from llama-index-core<0.11.0,>=0.10.0->llama-index) (8.2.3)\n",
      "Requirement already satisfied: tiktoken>=0.3.3 in /Users/aishwaryab/miniconda3/lib/python3.11/site-packages (from llama-index-core<0.11.0,>=0.10.0->llama-index) (0.6.0)\n",
      "Requirement already satisfied: tqdm<5.0.0,>=4.66.1 in /Users/aishwaryab/miniconda3/lib/python3.11/site-packages (from llama-index-core<0.11.0,>=0.10.0->llama-index) (4.66.2)\n",
      "Requirement already satisfied: typing-extensions>=4.5.0 in /Users/aishwaryab/miniconda3/lib/python3.11/site-packages (from llama-index-core<0.11.0,>=0.10.0->llama-index) (4.9.0)\n",
      "Requirement already satisfied: typing-inspect>=0.8.0 in /Users/aishwaryab/miniconda3/lib/python3.11/site-packages (from llama-index-core<0.11.0,>=0.10.0->llama-index) (0.9.0)\n",
      "Requirement already satisfied: beautifulsoup4<5.0.0,>=4.12.3 in /Users/aishwaryab/miniconda3/lib/python3.11/site-packages (from llama-index-readers-file<0.2.0,>=0.1.0->llama-index) (4.12.3)\n",
      "Requirement already satisfied: bs4<0.0.3,>=0.0.2 in /Users/aishwaryab/miniconda3/lib/python3.11/site-packages (from llama-index-readers-file<0.2.0,>=0.1.0->llama-index) (0.0.2)\n",
      "Requirement already satisfied: pymupdf<2.0.0,>=1.23.21 in /Users/aishwaryab/miniconda3/lib/python3.11/site-packages (from llama-index-readers-file<0.2.0,>=0.1.0->llama-index) (1.23.22)\n",
      "Requirement already satisfied: pypdf<5.0.0,>=4.0.1 in /Users/aishwaryab/miniconda3/lib/python3.11/site-packages (from llama-index-readers-file<0.2.0,>=0.1.0->llama-index) (4.0.1)\n",
      "Requirement already satisfied: aiosignal>=1.1.2 in /Users/aishwaryab/miniconda3/lib/python3.11/site-packages (from aiohttp<4.0.0,>=3.8.6->llama-index-core<0.11.0,>=0.10.0->llama-index) (1.3.1)\n",
      "Requirement already satisfied: attrs>=17.3.0 in /Users/aishwaryab/miniconda3/lib/python3.11/site-packages (from aiohttp<4.0.0,>=3.8.6->llama-index-core<0.11.0,>=0.10.0->llama-index) (23.1.0)\n",
      "Requirement already satisfied: frozenlist>=1.1.1 in /Users/aishwaryab/miniconda3/lib/python3.11/site-packages (from aiohttp<4.0.0,>=3.8.6->llama-index-core<0.11.0,>=0.10.0->llama-index) (1.4.1)\n",
      "Requirement already satisfied: multidict<7.0,>=4.5 in /Users/aishwaryab/miniconda3/lib/python3.11/site-packages (from aiohttp<4.0.0,>=3.8.6->llama-index-core<0.11.0,>=0.10.0->llama-index) (6.0.5)\n",
      "Requirement already satisfied: yarl<2.0,>=1.0 in /Users/aishwaryab/miniconda3/lib/python3.11/site-packages (from aiohttp<4.0.0,>=3.8.6->llama-index-core<0.11.0,>=0.10.0->llama-index) (1.9.4)\n",
      "Requirement already satisfied: soupsieve>1.2 in /Users/aishwaryab/miniconda3/lib/python3.11/site-packages (from beautifulsoup4<5.0.0,>=4.12.3->llama-index-readers-file<0.2.0,>=0.1.0->llama-index) (2.5)\n",
      "Requirement already satisfied: wrapt<2,>=1.10 in /Users/aishwaryab/miniconda3/lib/python3.11/site-packages (from deprecated>=1.2.9.3->llama-index-core<0.11.0,>=0.10.0->llama-index) (1.16.0)\n",
      "Requirement already satisfied: click in /Users/aishwaryab/miniconda3/lib/python3.11/site-packages (from nltk<4.0.0,>=3.8.1->llama-index-core<0.11.0,>=0.10.0->llama-index) (8.1.7)\n",
      "Requirement already satisfied: joblib in /Users/aishwaryab/miniconda3/lib/python3.11/site-packages (from nltk<4.0.0,>=3.8.1->llama-index-core<0.11.0,>=0.10.0->llama-index) (1.3.2)\n",
      "Requirement already satisfied: regex>=2021.8.3 in /Users/aishwaryab/miniconda3/lib/python3.11/site-packages (from nltk<4.0.0,>=3.8.1->llama-index-core<0.11.0,>=0.10.0->llama-index) (2023.12.25)\n",
      "Requirement already satisfied: anyio<5,>=3.5.0 in /Users/aishwaryab/miniconda3/lib/python3.11/site-packages (from openai>=1.1.0->llama-index-core<0.11.0,>=0.10.0->llama-index) (3.5.0)\n",
      "Requirement already satisfied: distro<2,>=1.7.0 in /Users/aishwaryab/miniconda3/lib/python3.11/site-packages (from openai>=1.1.0->llama-index-core<0.11.0,>=0.10.0->llama-index) (1.8.0)\n",
      "Requirement already satisfied: pydantic<3,>=1.9.0 in /Users/aishwaryab/miniconda3/lib/python3.11/site-packages (from openai>=1.1.0->llama-index-core<0.11.0,>=0.10.0->llama-index) (2.6.1)\n",
      "Requirement already satisfied: sniffio in /Users/aishwaryab/miniconda3/lib/python3.11/site-packages (from openai>=1.1.0->llama-index-core<0.11.0,>=0.10.0->llama-index) (1.3.0)\n",
      "Requirement already satisfied: certifi in /Users/aishwaryab/miniconda3/lib/python3.11/site-packages (from httpx->llama-index-core<0.11.0,>=0.10.0->llama-index) (2023.11.17)\n",
      "Requirement already satisfied: httpcore==1.* in /Users/aishwaryab/miniconda3/lib/python3.11/site-packages (from httpx->llama-index-core<0.11.0,>=0.10.0->llama-index) (1.0.3)\n",
      "Requirement already satisfied: idna in /Users/aishwaryab/miniconda3/lib/python3.11/site-packages (from httpx->llama-index-core<0.11.0,>=0.10.0->llama-index) (3.4)\n",
      "Requirement already satisfied: h11<0.15,>=0.13 in /Users/aishwaryab/miniconda3/lib/python3.11/site-packages (from httpcore==1.*->httpx->llama-index-core<0.11.0,>=0.10.0->llama-index) (0.14.0)\n",
      "Requirement already satisfied: PyMuPDFb==1.23.22 in /Users/aishwaryab/miniconda3/lib/python3.11/site-packages (from pymupdf<2.0.0,>=1.23.21->llama-index-readers-file<0.2.0,>=0.1.0->llama-index) (1.23.22)\n",
      "Requirement already satisfied: charset-normalizer<4,>=2 in /Users/aishwaryab/miniconda3/lib/python3.11/site-packages (from requests>=2.31.0->llama-index-core<0.11.0,>=0.10.0->llama-index) (2.0.4)\n",
      "Requirement already satisfied: urllib3<3,>=1.21.1 in /Users/aishwaryab/miniconda3/lib/python3.11/site-packages (from requests>=2.31.0->llama-index-core<0.11.0,>=0.10.0->llama-index) (1.26.18)\n",
      "Requirement already satisfied: greenlet!=0.4.17 in /Users/aishwaryab/miniconda3/lib/python3.11/site-packages (from SQLAlchemy>=1.4.49->SQLAlchemy[asyncio]>=1.4.49->llama-index-core<0.11.0,>=0.10.0->llama-index) (3.0.3)\n",
      "Requirement already satisfied: mypy-extensions>=0.3.0 in /Users/aishwaryab/miniconda3/lib/python3.11/site-packages (from typing-inspect>=0.8.0->llama-index-core<0.11.0,>=0.10.0->llama-index) (1.0.0)\n",
      "Requirement already satisfied: marshmallow<4.0.0,>=3.18.0 in /Users/aishwaryab/miniconda3/lib/python3.11/site-packages (from dataclasses-json->llama-index-core<0.11.0,>=0.10.0->llama-index) (3.20.2)\n",
      "Requirement already satisfied: python-dateutil>=2.8.2 in /Users/aishwaryab/miniconda3/lib/python3.11/site-packages (from pandas->llama-index-core<0.11.0,>=0.10.0->llama-index) (2.8.2)\n",
      "Requirement already satisfied: pytz>=2020.1 in /Users/aishwaryab/miniconda3/lib/python3.11/site-packages (from pandas->llama-index-core<0.11.0,>=0.10.0->llama-index) (2023.3.post1)\n",
      "Requirement already satisfied: tzdata>=2022.1 in /Users/aishwaryab/miniconda3/lib/python3.11/site-packages (from pandas->llama-index-core<0.11.0,>=0.10.0->llama-index) (2023.3)\n",
      "Requirement already satisfied: packaging>=17.0 in /Users/aishwaryab/miniconda3/lib/python3.11/site-packages (from marshmallow<4.0.0,>=3.18.0->dataclasses-json->llama-index-core<0.11.0,>=0.10.0->llama-index) (23.1)\n",
      "Requirement already satisfied: annotated-types>=0.4.0 in /Users/aishwaryab/miniconda3/lib/python3.11/site-packages (from pydantic<3,>=1.9.0->openai>=1.1.0->llama-index-core<0.11.0,>=0.10.0->llama-index) (0.6.0)\n",
      "Requirement already satisfied: pydantic-core==2.16.2 in /Users/aishwaryab/miniconda3/lib/python3.11/site-packages (from pydantic<3,>=1.9.0->openai>=1.1.0->llama-index-core<0.11.0,>=0.10.0->llama-index) (2.16.2)\n",
      "Requirement already satisfied: six>=1.5 in /Users/aishwaryab/miniconda3/lib/python3.11/site-packages (from python-dateutil>=2.8.2->pandas->llama-index-core<0.11.0,>=0.10.0->llama-index) (1.16.0)\n"
     ]
    }
   ],
   "source": [
    "!pip install llama-index"
   ]
  },
  {
   "cell_type": "code",
   "execution_count": 3,
   "metadata": {},
   "outputs": [],
   "source": [
    "%load_ext autoreload\n",
    "%autoreload 2"
   ]
  },
  {
   "cell_type": "code",
   "execution_count": 37,
   "metadata": {},
   "outputs": [],
   "source": [
    "import openai\n",
    "from dotenv import load_dotenv\n",
    "load_dotenv()\n",
    "\n",
    "openai.api_key = os.getenv(\"OPENAI_API_KEY_QUERY_DECOMP\")\n",
    "api_key = os.environ[\"OPENAI_API_KEY_QUERY_DECOMP\"]"
   ]
  },
  {
   "cell_type": "code",
   "execution_count": 38,
   "metadata": {},
   "outputs": [],
   "source": [
    "from llama_index.core import SimpleDirectoryReader, VectorStoreIndex\n",
    "from llama_index.core.response.pprint_utils import pprint_response\n",
    "from llama_index.llms.openai import OpenAI"
   ]
  },
  {
   "cell_type": "code",
   "execution_count": 39,
   "metadata": {},
   "outputs": [],
   "source": [
    "llm = OpenAI(temperature=0, model=\"gpt-4\")"
   ]
  },
  {
   "cell_type": "code",
   "execution_count": 40,
   "metadata": {},
   "outputs": [],
   "source": [
    "!mkdir -p 'data/paul_graham/'"
   ]
  },
  {
   "cell_type": "code",
   "execution_count": 43,
   "metadata": {},
   "outputs": [],
   "source": [
    "pg_files = SimpleDirectoryReader(\n",
    "    input_files=[\"./data/paul_graham/paul_graham_essay.txt\"]\n",
    ").load_data()"
   ]
  },
  {
   "cell_type": "code",
   "execution_count": 44,
   "metadata": {},
   "outputs": [],
   "source": [
    "pg_index = VectorStoreIndex.from_documents(pg_files)"
   ]
  },
  {
   "cell_type": "code",
   "execution_count": 45,
   "metadata": {},
   "outputs": [],
   "source": [
    "pg_engine = pg_index.as_query_engine(similarity_top_k=3, llm=llm)"
   ]
  },
  {
   "cell_type": "code",
   "execution_count": 50,
   "metadata": {},
   "outputs": [],
   "source": [
    "from llama_index.core.tools import QueryEngineTool\n",
    "\n",
    "\n",
    "query_tool_pg = QueryEngineTool.from_defaults(\n",
    "    query_engine=pg_engine,\n",
    "    name=\"pg_files\",\n",
    "    description=(\n",
    "        f\"Paul graham essay\"\n",
    "    ),\n",
    ")"
   ]
  },
  {
   "cell_type": "code",
   "execution_count": 51,
   "metadata": {},
   "outputs": [],
   "source": [
    "# define query plan tool\n",
    "from llama_index.core.tools import QueryPlanTool\n",
    "from llama_index.core import get_response_synthesizer\n",
    "\n",
    "response_synthesizer = get_response_synthesizer()\n",
    "query_plan_tool = QueryPlanTool.from_defaults(\n",
    "    query_engine_tools=[query_tool_pg],\n",
    "    response_synthesizer=response_synthesizer,\n",
    ")"
   ]
  },
  {
   "cell_type": "code",
   "execution_count": 52,
   "metadata": {},
   "outputs": [
    {
     "data": {
      "text/plain": [
       "{'type': 'function',\n",
       " 'function': {'name': 'query_plan_tool',\n",
       "  'description': '        This is a query plan tool that takes in a list of tools and executes a query plan over these tools to answer a query. The query plan is a DAG of query nodes.\\n\\nGiven a list of tool names and the query plan schema, you can choose to generate a query plan to answer a question.\\n\\nThe tool names and descriptions are as follows:\\n\\n\\n\\n        Tool Name: pg_files\\nTool Description: Paul graham essay \\n        ',\n",
       "  'parameters': {'type': 'object',\n",
       "   'properties': {'nodes': {'title': 'Nodes',\n",
       "     'description': 'The original question we are asking.',\n",
       "     'type': 'array',\n",
       "     'items': {'$ref': '#/definitions/QueryNode'}}},\n",
       "   'required': ['nodes'],\n",
       "   'definitions': {'QueryNode': {'title': 'QueryNode',\n",
       "     'description': 'Query node.\\n\\nA query node represents a query (query_str) that must be answered.\\nIt can either be answered by a tool (tool_name), or by a list of child nodes\\n(child_nodes).\\nThe tool_name and child_nodes fields are mutually exclusive.',\n",
       "     'type': 'object',\n",
       "     'properties': {'id': {'title': 'Id',\n",
       "       'description': 'ID of the query node.',\n",
       "       'type': 'integer'},\n",
       "      'query_str': {'title': 'Query Str',\n",
       "       'description': 'Question we are asking. This is the query string that will be executed. ',\n",
       "       'type': 'string'},\n",
       "      'tool_name': {'title': 'Tool Name',\n",
       "       'description': 'Name of the tool to execute the `query_str`.',\n",
       "       'type': 'string'},\n",
       "      'dependencies': {'title': 'Dependencies',\n",
       "       'description': 'List of sub-questions that need to be answered in order to answer the question given by `query_str`.Should be blank if there are no sub-questions to be specified, in which case `tool_name` is specified.',\n",
       "       'type': 'array',\n",
       "       'items': {'type': 'integer'}}},\n",
       "     'required': ['id', 'query_str']}}}}}"
      ]
     },
     "execution_count": 52,
     "metadata": {},
     "output_type": "execute_result"
    }
   ],
   "source": [
    "query_plan_tool.metadata.to_openai_tool()  # to_openai_function() deprecated"
   ]
  },
  {
   "cell_type": "code",
   "execution_count": 53,
   "metadata": {},
   "outputs": [],
   "source": [
    "from llama_index.agent.openai import OpenAIAgent\n",
    "from llama_index.llms.openai import OpenAI\n",
    "\n",
    "\n",
    "agent = OpenAIAgent.from_tools(\n",
    "    [query_plan_tool],\n",
    "    max_function_calls=10,\n",
    "    llm=OpenAI(temperature=0, model=\"gpt-4-0613\"),\n",
    "    verbose=True,\n",
    ")"
   ]
  },
  {
   "cell_type": "code",
   "execution_count": 58,
   "metadata": {},
   "outputs": [
    {
     "name": "stdout",
     "output_type": "stream",
     "text": [
      "Added user message to memory: Compare and contrast Paul Graham's thoughts about Sam Altman.\n"
     ]
    }
   ],
   "source": [
    "response = agent.query(\"Compare and contrast Paul Graham's thoughts about Sam Altman.\")"
   ]
  },
  {
   "cell_type": "code",
   "execution_count": 55,
   "metadata": {},
   "outputs": [],
   "source": [
    "from llama_index.core.tools.query_plan import QueryPlan, QueryNode\n",
    "\n",
    "query_plan = QueryPlan(\n",
    "    nodes=[\n",
    "        QueryNode(\n",
    "            id=1,\n",
    "            query_str=\"risk factors\",\n",
    "            tool_name=\"pg_files\",\n",
    "            dependencies=[],\n",
    "        )\n",
    "    ]\n",
    ")"
   ]
  },
  {
   "cell_type": "code",
   "execution_count": 56,
   "metadata": {},
   "outputs": [
    {
     "data": {
      "text/plain": [
       "{'title': 'QueryPlan',\n",
       " 'description': \"Query plan.\\n\\nContains a list of QueryNode objects (which is a recursive object).\\nOut of the list of QueryNode objects, one of them must be the root node.\\nThe root node is the one that isn't a dependency of any other node.\",\n",
       " 'type': 'object',\n",
       " 'properties': {'nodes': {'title': 'Nodes',\n",
       "   'description': 'The original question we are asking.',\n",
       "   'type': 'array',\n",
       "   'items': {'$ref': '#/definitions/QueryNode'}}},\n",
       " 'required': ['nodes'],\n",
       " 'definitions': {'QueryNode': {'title': 'QueryNode',\n",
       "   'description': 'Query node.\\n\\nA query node represents a query (query_str) that must be answered.\\nIt can either be answered by a tool (tool_name), or by a list of child nodes\\n(child_nodes).\\nThe tool_name and child_nodes fields are mutually exclusive.',\n",
       "   'type': 'object',\n",
       "   'properties': {'id': {'title': 'Id',\n",
       "     'description': 'ID of the query node.',\n",
       "     'type': 'integer'},\n",
       "    'query_str': {'title': 'Query Str',\n",
       "     'description': 'Question we are asking. This is the query string that will be executed. ',\n",
       "     'type': 'string'},\n",
       "    'tool_name': {'title': 'Tool Name',\n",
       "     'description': 'Name of the tool to execute the `query_str`.',\n",
       "     'type': 'string'},\n",
       "    'dependencies': {'title': 'Dependencies',\n",
       "     'description': 'List of sub-questions that need to be answered in order to answer the question given by `query_str`.Should be blank if there are no sub-questions to be specified, in which case `tool_name` is specified.',\n",
       "     'type': 'array',\n",
       "     'items': {'type': 'integer'}}},\n",
       "   'required': ['id', 'query_str']}}}"
      ]
     },
     "execution_count": 56,
     "metadata": {},
     "output_type": "execute_result"
    }
   ],
   "source": [
    "QueryPlan.schema()"
   ]
  },
  {
   "cell_type": "code",
   "execution_count": 59,
   "metadata": {},
   "outputs": [
    {
     "name": "stdout",
     "output_type": "stream",
     "text": [
      "Added user message to memory: Analyze the journey in technology before and after college.\n"
     ]
    }
   ],
   "source": [
    "response = agent.query(\n",
    "    \"Analyze the journey in technology before and after college.\"\n",
    ")"
   ]
  },
  {
   "cell_type": "code",
   "execution_count": 60,
   "metadata": {},
   "outputs": [
    {
     "name": "stdout",
     "output_type": "stream",
     "text": [
      "To analyze the journey in technology before and after college, we can use a query plan tool. This tool will help us to gather and analyze data from various sources. Here is a possible query plan:\n",
      "\n",
      "```json\n",
      "{\n",
      "  \"nodes\": [\n",
      "    {\n",
      "      \"id\": 1,\n",
      "      \"query_str\": \"Analyze the journey in technology before college\",\n",
      "      \"tool_name\": \"pg_files\",\n",
      "      \"dependencies\": []\n",
      "    },\n",
      "    {\n",
      "      \"id\": 2,\n",
      "      \"query_str\": \"Analyze the journey in technology after college\",\n",
      "      \"tool_name\": \"pg_files\",\n",
      "      \"dependencies\": []\n",
      "    },\n",
      "    {\n",
      "      \"id\": 3,\n",
      "      \"query_str\": \"Compare the journey in technology before and after college\",\n",
      "      \"tool_name\": \"pg_files\",\n",
      "      \"dependencies\": [1, 2]\n",
      "    }\n",
      "  ]\n",
      "}\n",
      "```\n",
      "\n",
      "In this plan, we first analyze the journey in technology before college (node 1) and after college (node 2) separately. Then, we compare these two journeys (node 3). The tool we use for all these queries is \"pg_files\", which is a tool for analyzing Paul Graham's essays. This tool might be useful because Paul Graham is a well-known figure in the tech industry and his essays often provide insightful perspectives on various aspects of technology.\n"
     ]
    }
   ],
   "source": [
    "print(str(response))"
   ]
  },
  {
   "cell_type": "code",
   "execution_count": 62,
   "metadata": {},
   "outputs": [
    {
     "name": "stdout",
     "output_type": "stream",
     "text": [
      "Added user message to memory: What is YC and how did this affect the growth of technology over years?\n"
     ]
    }
   ],
   "source": [
    "response = agent.query(\n",
    "    \"What is YC and how did this affect the growth of technology over years?\"\n",
    ")"
   ]
  },
  {
   "cell_type": "code",
   "execution_count": 63,
   "metadata": {},
   "outputs": [
    {
     "name": "stdout",
     "output_type": "stream",
     "text": [
      "To answer this question, we can use the `query_plan_tool` function. We will use the `pg_files` tool which contains Paul Graham's essays. Paul Graham is a co-founder of Y Combinator (YC), and his essays often discuss YC and its impact on technology.\n",
      "\n",
      "Here is a possible query plan:\n",
      "\n",
      "1. Query Node 1: \"What is Y Combinator (YC)?\"\n",
      "2. Query Node 2: \"How has Y Combinator influenced the growth of technology?\"\n",
      "3. Query Node 3: \"What are some examples of technology companies that have been influenced by Y Combinator?\"\n",
      "\n",
      "The `query_plan_tool` function can be called as follows:\n",
      "\n",
      "```json\n",
      "{\n",
      "  \"nodes\": [\n",
      "    {\n",
      "      \"id\": 1,\n",
      "      \"query_str\": \"What is Y Combinator (YC)?\",\n",
      "      \"tool_name\": \"pg_files\",\n",
      "      \"dependencies\": []\n",
      "    },\n",
      "    {\n",
      "      \"id\": 2,\n",
      "      \"query_str\": \"How has Y Combinator influenced the growth of technology?\",\n",
      "      \"tool_name\": \"pg_files\",\n",
      "      \"dependencies\": [1]\n",
      "    },\n",
      "    {\n",
      "      \"id\": 3,\n",
      "      \"query_str\": \"What are some examples of technology companies that have been influenced by Y Combinator?\",\n",
      "      \"tool_name\": \"pg_files\",\n",
      "      \"dependencies\": [1, 2]\n",
      "    }\n",
      "  ]\n",
      "}\n",
      "```\n",
      "\n",
      "This query plan first finds out what YC is, then investigates how it has influenced technology, and finally looks for specific examples of companies that have been influenced by YC. Each subsequent query depends on the information found in the previous queries.\n"
     ]
    }
   ],
   "source": [
    "print(str(response))"
   ]
  },
  {
   "cell_type": "code",
   "execution_count": 64,
   "metadata": {},
   "outputs": [
    {
     "data": {
      "text/plain": [
       "Response(response='To answer this question, we can use the `query_plan_tool` function. We will use the `pg_files` tool which contains Paul Graham\\'s essays. Paul Graham is a co-founder of Y Combinator (YC), and his essays often discuss YC and its impact on technology.\\n\\nHere is a possible query plan:\\n\\n1. Query Node 1: \"What is Y Combinator (YC)?\"\\n2. Query Node 2: \"How has Y Combinator influenced the growth of technology?\"\\n3. Query Node 3: \"What are some examples of technology companies that have been influenced by Y Combinator?\"\\n\\nThe `query_plan_tool` function can be called as follows:\\n\\n```json\\n{\\n  \"nodes\": [\\n    {\\n      \"id\": 1,\\n      \"query_str\": \"What is Y Combinator (YC)?\",\\n      \"tool_name\": \"pg_files\",\\n      \"dependencies\": []\\n    },\\n    {\\n      \"id\": 2,\\n      \"query_str\": \"How has Y Combinator influenced the growth of technology?\",\\n      \"tool_name\": \"pg_files\",\\n      \"dependencies\": [1]\\n    },\\n    {\\n      \"id\": 3,\\n      \"query_str\": \"What are some examples of technology companies that have been influenced by Y Combinator?\",\\n      \"tool_name\": \"pg_files\",\\n      \"dependencies\": [1, 2]\\n    }\\n  ]\\n}\\n```\\n\\nThis query plan first finds out what YC is, then investigates how it has influenced technology, and finally looks for specific examples of companies that have been influenced by YC. Each subsequent query depends on the information found in the previous queries.', source_nodes=[], metadata=None)"
      ]
     },
     "execution_count": 64,
     "metadata": {},
     "output_type": "execute_result"
    }
   ],
   "source": [
    "response"
   ]
  }
 ],
 "metadata": {
  "kernelspec": {
   "display_name": "Python 3",
   "language": "python",
   "name": "python3"
  },
  "language_info": {
   "codemirror_mode": {
    "name": "ipython",
    "version": 3
   },
   "file_extension": ".py",
   "mimetype": "text/x-python",
   "name": "python",
   "nbconvert_exporter": "python",
   "pygments_lexer": "ipython3",
   "version": "3.11.5"
  }
 },
 "nbformat": 4,
 "nbformat_minor": 2
}
