{
 "cells": [
  {
   "cell_type": "code",
   "execution_count": null,
   "metadata": {},
   "outputs": [],
   "source": [
    "question = \"How does the teacher's posture change when standing in front of different sections of the classroom?\"\n",
    "queries = [\n",
    "    SubQuery(sub_query=\"What is the teacher's posture in front od different sections in the classroom?\"),\n",
    "    SubQuery(sub_query=\"What are the different sections of the classroom?\"),\n",
    "]\n",
    "\n",
    "examples.append({\"input\": question, \"tool_calls\": queries})"
   ]
  },
  {
   "cell_type": "code",
   "execution_count": null,
   "metadata": {},
   "outputs": [],
   "source": [
    "question = \"Can the students at their desks be grouped by their level of attentiveness?\"\n",
    "queries = [\n",
    "    SubQuery(sub_query=\"Can the students at their desks be grouped by their level of attentiveness?\"),\n",
    "    SubQuery(sub_query=\"What are the different levels of attentiveness that the students can be grouped into?\"),\n",
    "]\n",
    "\n",
    "examples.append({\"input\": question, \"tool_calls\": queries})"
   ]
  },
  {
   "cell_type": "code",
   "execution_count": null,
   "metadata": {},
   "outputs": [],
   "source": [
    "question = \" Which student is the most active in writing answers on the whiteboard, and how does their activity compare to the rest?\"\n",
    "queries = [\n",
    "    SubQuery(sub_query=\"Which student is the most active in writing answers on the whiteboard?\"),\n",
    "    SubQuery(sub_query=\"How does their activity compare to the rest?\"),\n",
    "]\n",
    "\n",
    "examples.append({\"input\": question, \"tool_calls\": queries})"
   ]
  },
  {
   "cell_type": "code",
   "execution_count": null,
   "metadata": {},
   "outputs": [],
   "source": [
    "question = \"Are the books on the teacher's desk more related to the current subject being taught or for future lessons?\"\n",
    "queries = [\n",
    "    SubQuery(sub_query=\"Are the books on the teacher's desk more related to the current subject being taught?\"),\n",
    "    SubQuery(sub_query=\"Are the books on the teacher's desk more related to the future lessons?\"),\n",
    "    SubQuery(sub_query=\"What are the books about?\"),\n",
    "]\n",
    "\n",
    "examples.append({\"input\": question, \"tool_calls\": queries})"
   ]
  },
  {
   "cell_type": "code",
   "execution_count": null,
   "metadata": {},
   "outputs": [],
   "source": [
    "question = \"What is the topic of the presentation being displayed by the projector, and how does it relate to the students' current curriculum?\"\n",
    "queries = [\n",
    "    SubQuery(sub_query=\"What is the topic of the presentation being displayed by the projector?\"),\n",
    "    SubQuery(sub_query=\"How does it relate to the students' current curriculum?\"),\n",
    "]\n",
    "\n",
    "examples.append({\"input\": question, \"tool_calls\": queries})"
   ]
  },
  {
   "cell_type": "code",
   "execution_count": null,
   "metadata": {},
   "outputs": [],
   "source": [
    "question = \"How do the dynamics of student groups vary across different classroom activities?\"\n",
    "queries = [\n",
    "    SubQuery(sub_query=\"What are the dynamics of student groups across different classroom activities?\"),\n",
    "    SubQuery(sub_query=\"What are the different classroom activities?\"),\n",
    "    SubQuery(sub_query=\"What are the different student groups?\"),\n",
    "]\n",
    "\n",
    "examples.append({\"input\": question, \"tool_calls\": queries})"
   ]
  },
  {
   "cell_type": "code",
   "execution_count": null,
   "metadata": {},
   "outputs": [],
   "source": [
    "question = \"What is the frequency of students raising their hands to ask questions during a typical class session?\"\n",
    "queries = [\n",
    "    SubQuery(sub_query=\"What kinds of questions are asked during a typical class session?\"),\n",
    "    SubQuery(sub_query=\"What students raise their hands to ask questions?\"),\n",
    "]\n",
    "\n",
    "examples.append({\"input\": question, \"tool_calls\": queries})"
   ]
  },
  {
   "cell_type": "code",
   "execution_count": null,
   "metadata": {},
   "outputs": [],
   "source": [
    "question = \"Can the teacher's pointing to the map on the wall be correlated with the geographic focus of the current lesson?\"\n",
    "queries = [\n",
    "    SubQuery(sub_query=\"What is the geographic focus of the current lesson?\"),\n",
    "    SubQuery(sub_query=\"What map is the teacher pointing to?\"),\n",
    "]\n",
    "\n",
    "examples.append({\"input\": question, \"tool_calls\": queries})"
   ]
  },
  {
   "cell_type": "code",
   "execution_count": null,
   "metadata": {},
   "outputs": [],
   "source": [
    "question = \"What is the impact of open windows in the classroom on the students' attentiveness and classroom temperature?\"\n",
    "queries = [\n",
    "    SubQuery(sub_query=\"What is the impact of open windows in the classroom on the students' attentiveness?\"),\n",
    "    SubQuery(sub_query=\"What is the impact of open windows in the classroom on the classroom temperature?\"),\n",
    "]\n",
    "\n",
    "examples.append({\"input\": question, \"tool_calls\": queries})"
   ]
  },
  {
   "cell_type": "code",
   "execution_count": null,
   "metadata": {},
   "outputs": [],
   "source": [
    "question = \"Is the student typing on a laptop more engaged in academic activities or non-educational browsing?\"\n",
    "queries = [\n",
    "    SubQuery(sub_query=\"Is the student typing on a laptop engaged in academic activities?\"),\n",
    "    SubQuery(sub_query=\"Is the student typing on a laptop engaged in non-educational browsing?\"),\n",
    "]\n",
    "\n",
    "examples.append({\"input\": question, \"tool_calls\": queries})"
   ]
  },
  {
   "cell_type": "code",
   "execution_count": null,
   "metadata": {},
   "outputs": [],
   "source": [
    "question = \"How does the organization of pencils and pens in the holder reflect the overall tidiness of the classroom?\"\n",
    "queries = [\n",
    "    SubQuery(sub_query=\"How are pencils and pens organized in the holder?\"),\n",
    "    SubQuery(sub_query=\"What is the overall tidiness of the classroom?\"),\n",
    "]\n",
    "\n",
    "examples.append({\"input\": question, \"tool_calls\": queries})"
   ]
  },
  {
   "cell_type": "code",
   "execution_count": null,
   "metadata": {},
   "outputs": [],
   "source": [
    "question = \"What subject is the teacher reading from the textbook, and how does it align with the students' interest levels?\"\n",
    "queries = [\n",
    "    SubQuery(sub_query=\"What subject is the teacher reading from the textbook?\"),\n",
    "    SubQuery(sub_query=\"How does it align with the students' interest levels?\"),\n",
    "]\n",
    "\n",
    "examples.append({\"input\": question, \"tool_calls\": queries})"
   ]
  },
  {
   "cell_type": "code",
   "execution_count": null,
   "metadata": {},
   "outputs": [],
   "source": [
    "question = \"Are students more engaged when watching an educational video or during interactive classroom activities?\"\n",
    "queries = [\n",
    "    SubQuery(sub_query=\"Are students engaged when watching an educational video?\"),\n",
    "    SubQuery(sub_query=\"Are students engaged during interactive classroom activities?\"),\n",
    "]\n",
    "\n",
    "examples.append({\"input\": question, \"tool_calls\": queries})"
   ]
  },
  {
   "cell_type": "code",
   "execution_count": null,
   "metadata": {},
   "outputs": [],
   "source": [
    "question = \"How does the classroom's atmosphere change when the clock indicates it's time for recess?\"\n",
    "queries = [\n",
    "    SubQuery(sub_query=\"When does the clock indicate it's time for recess?\"),\n",
    "    SubQuery(sub_query=\"How does the classroom's atmosphere change when the clock changes?\"),\n",
    "]\n",
    "\n",
    "examples.append({\"input\": question, \"tool_calls\": queries})"
   ]
  },
  {
   "cell_type": "code",
   "execution_count": null,
   "metadata": {},
   "outputs": [],
   "source": [
    "question = \"What strategies do students use to concentrate while taking a test in a noisy classroom?\"\n",
    "queries = [\n",
    "    SubQuery(sub_query=\"What noise does the classroom have?\"),\n",
    "    SubQuery(sub_query=\"What strategies do students use to concentrate while taking a test?\"),\n",
    "]\n",
    "\n",
    "examples.append({\"input\": question, \"tool_calls\": queries})"
   ]
  },
  {
   "cell_type": "code",
   "execution_count": null,
   "metadata": {},
   "outputs": [],
   "source": [
    "question = \"In what ways does the teacher provide feedback while checking homework assignments, and how is it received by the students?\"\n",
    "queries = [\n",
    "    SubQuery(sub_query=\"In what ways does the teacher provide feedback while checking homework assignments?\"),\n",
    "    SubQuery(sub_query=\"How is feedback received by the students?\"),\n",
    "]\n",
    "\n",
    "examples.append({\"input\": question, \"tool_calls\": queries})"
   ]
  },
  {
   "cell_type": "code",
   "execution_count": null,
   "metadata": {},
   "outputs": [],
   "source": [
    "question = \"How do the themes of students' drawings in their sketchbooks relate to the subjects being taught in class?\"\n",
    "queries = [\n",
    "    SubQuery(sub_query=\"What subjects are being taught in class?\"),\n",
    "    SubQuery(sub_query=\"What are the themes of students' drawings in their sketchbooks?\"),\n",
    "]\n",
    "\n",
    "examples.append({\"input\": question, \"tool_calls\": queries})"
   ]
  },
  {
   "cell_type": "code",
   "execution_count": null,
   "metadata": {},
   "outputs": [],
   "source": [
    "question = \"What content is the student primarily accessing on the tablet, educational or entertainment?\"\n",
    "queries = [\n",
    "    SubQuery(sub_query=\"What content is the student primarily accessing on the tablet?\"),\n",
    "    SubQuery(sub_query=\"Is the content educational?\"),\n",
    "    SubQuery(sub_query=\"Is the content entertainment?\"),\n",
    "]\n",
    "\n",
    "examples.append({\"input\": question, \"tool_calls\": queries})"
   ]
  },
  {
   "cell_type": "code",
   "execution_count": null,
   "metadata": {},
   "outputs": [],
   "source": [
    "question = \"How does listening to an audio lesson through headphones affect students' comprehension compared to traditional teaching methods?\"\n",
    "queries = [\n",
    "    SubQuery(sub_query=\"How does listening to an audio lesson through headphones affect students' comprehension?\"),\n",
    "    SubQuery(sub_query=\"How does tradiitonal teaching methods to an audio lesson through headphones affect students' comprehension?\"),\n",
    "    SubQuery(sub_query=\"What are traditional teaching methods?\"),\n",
    "]\n",
    "\n",
    "examples.append({\"input\": question, \"tool_calls\": queries})"
   ]
  },
  {
   "cell_type": "code",
   "execution_count": null,
   "metadata": {},
   "outputs": [],
   "source": [
    "question = \"What are the most common errors made by students when solving the math problem explained on the projector screen?\"\n",
    "queries = [\n",
    "    SubQuery(sub_query=\"What math problems are explained on the projector screen?\"),\n",
    "    SubQuery(sub_query=\"What are the most common errors made by students when solving math problems?\"),\n",
    "]\n",
    "\n",
    "examples.append({\"input\": question, \"tool_calls\": queries})"
   ]
  },
  {
   "cell_type": "code",
   "execution_count": null,
   "metadata": {},
   "outputs": [],
   "source": [
    "question = \"What distinct characteristics set a public library apart from a school library in terms of ambiance and resources?\"\n",
    "queries = [\n",
    "    SubQuery(sub_query=\"What ambiance does a public library have?\"),\n",
    "    SubQuery(sub_query=\"What resources does a public library have?\"),\n",
    "    SubQuery(sub_query=\"What characteristics does a public library have apart from a school library?\"),\n",
    "]\n",
    "\n",
    "examples.append({\"input\": question, \"tool_calls\": queries})"
   ]
  },
  {
   "cell_type": "code",
   "execution_count": null,
   "metadata": {},
   "outputs": [],
   "source": [
    "question = \"What are the most popular destinations within walking distance of the nearest coffee shop, and why?\"\n",
    "queries = [\n",
    "    SubQuery(sub_query=\"What are the most popular destinations within walking distance of the nearest coffee shop?\"),\n",
    "    SubQuery(sub_query=\"Why are they the most popular destinations within walking distance of the nearest coffee shop?\"),\n",
    "]\n",
    "\n",
    "examples.append({\"input\": question, \"tool_calls\": queries})"
   ]
  },
  {
   "cell_type": "code",
   "execution_count": null,
   "metadata": {},
   "outputs": [],
   "source": [
    "question = \"Does the presence of a lake in the nearest park increase its popularity among local residents?\"\n",
    "queries = [\n",
    "    SubQuery(sub_query=\"What parks are popular among local residents?\"),\n",
    "    SubQuery(sub_query=\"Do popular parks have lakes near them?\"),\n",
    "]\n",
    "\n",
    "examples.append({\"input\": question, \"tool_calls\": queries})"
   ]
  },
  {
   "cell_type": "code",
   "execution_count": null,
   "metadata": {},
   "outputs": [],
   "source": [
    "question = \"How do Italian restaurants in the current neighborhood compare in terms of authenticity and price?\"\n",
    "queries = [\n",
    "    SubQuery(sub_query=\"How do Italian restaurants in the current neighborhood compare in terms of authenticity?\"),\n",
    "    SubQuery(sub_query=\"How do Italian restaurants in the current neighborhood compare in terms of price?\"),\n",
    "    SubQuery(sub_query=\"WHat is the current neighborhood?\"),\n",
    "]\n",
    "\n",
    "examples.append({\"input\": question, \"tool_calls\": queries})"
   ]
  },
  {
   "cell_type": "code",
   "execution_count": null,
   "metadata": {},
   "outputs": [],
   "source": [
    "question = \"What are the implications of today's weather forecast on outdoor activities in the area?\"\n",
    "queries = [\n",
    "    SubQuery(sub_query=\"What is today's weather forecast?\"),\n",
    "    SubQuery(sub_query=\"What outdoor activities happen in the area?\"),\n",
    "]\n",
    "\n",
    "examples.append({\"input\": question, \"tool_calls\": queries})"
   ]
  },
  {
   "cell_type": "code",
   "execution_count": null,
   "metadata": {},
   "outputs": [],
   "source": [
    "question = \"Which is a more popular local attraction, the museum or the cinema, and what factors contribute to its popularity?\"\n",
    "queries = [\n",
    "    SubQuery(sub_query=\"Is the museum or the cinema a more popular attraction?\"),\n",
    "    SubQuery(sub_query=\"What factors contribute to its popularity of a local attraction?\"),\n",
    "]\n",
    "\n",
    "examples.append({\"input\": question, \"tool_calls\": queries})"
   ]
  },
  {
   "cell_type": "code",
   "execution_count": null,
   "metadata": {},
   "outputs": [],
   "source": [
    "question = \"What variety of organic produce is offered by the closest grocery store, and how does it compare to non-organic options?\"\n",
    "queries = [\n",
    "    SubQuery(sub_query=\"What variety of organic produce is offered by the closest grocery store?\"),\n",
    "    SubQuery(sub_query=\"How does it compare to non-organic options?\"),\n",
    "    SubQuery(sub_query=\"What are the non-organic options?\"),\n",
    "]\n",
    "\n",
    "examples.append({\"input\": question, \"tool_calls\": queries})"
   ]
  },
  {
   "cell_type": "code",
   "execution_count": null,
   "metadata": {},
   "outputs": [],
   "source": [
    "question = \"What amenities do pet-friendly cafés within a 1-mile radius offer to attract pet owners?\"\n",
    "queries = [\n",
    "    SubQuery(sub_query=\"What amenities do pet-friendly cafes have?\"),\n",
    "    SubQuery(sub_query=\"What attracts pet owners?\"),\n",
    "]\n",
    "\n",
    "examples.append({\"input\": question, \"tool_calls\": queries})"
   ]
  },
  {
   "cell_type": "code",
   "execution_count": null,
   "metadata": {},
   "outputs": [],
   "source": [
    "question = \"How reliable and timely are the public transportation services from this location to the city center?\"\n",
    "queries = [\n",
    "    SubQuery(sub_query=\"What is the location?\"),\n",
    "    SubQuery(sub_query=\"How far is the location from the city center?\"),\n",
    "    SubQuery(sub_query=\"How reliable are public transportation services?\"),\n",
    "]\n",
    "\n",
    "examples.append({\"input\": question, \"tool_calls\": queries})"
   ]
  },
  {
   "cell_type": "code",
   "execution_count": null,
   "metadata": {},
   "outputs": [],
   "source": [
    "question = \"What historical landmarks in the region are most visited, and what stories do they tell?\"\n",
    "queries = [\n",
    "    SubQuery(sub_query=\"What historical landmarks in the region are most visited?\"),\n",
    "    SubQuery(sub_query=\"What stories do they tell?\"),\n",
    "    SubQuery(sub_query=\"What are the regions?\"),\n",
    "]\n",
    "\n",
    "examples.append({\"input\": question, \"tool_calls\": queries})"
   ]
  },
  {
   "cell_type": "code",
   "execution_count": null,
   "metadata": {},
   "outputs": [],
   "source": [
    "question = \"What are the peak hours for the nearest gym, and how crowded does it get?\"\n",
    "queries = [\n",
    "    SubQuery(sub_query=\"What are the peak hours for the nearest gym?\"),\n",
    "    SubQuery(sub_query=\"What is the nearest gym?\"),\n",
    "    SubQuery(sub_query=\"How crowded does it get?\"),\n",
    "]\n",
    "\n",
    "examples.append({\"input\": question, \"tool_calls\": queries})"
   ]
  },
  {
   "cell_type": "code",
   "execution_count": null,
   "metadata": {},
   "outputs": [],
   "source": [
    "question = \"Are there any other health services provided by the closest pharmacy besides flu vaccinations?\"\n",
    "queries = [\n",
    "    SubQuery(sub_query=\"What is the closest pharmacy?\"),\n",
    "    SubQuery(sub_query=\"What health services does the pharmacy offer?\"),\n",
    "]\n",
    "\n",
    "examples.append({\"input\": question, \"tool_calls\": queries})"
   ]
  },
  {
   "cell_type": "code",
   "execution_count": null,
   "metadata": {},
   "outputs": [],
   "source": [
    "question = \"What flora and fauna can be found in the area designated as a nature reserve?\"\n",
    "queries = [\n",
    "    SubQuery(sub_query=\"What is the area designated as a nature reserve?\"),\n",
    "    SubQuery(sub_query=\"What flora is found in this area?\"),\n",
    "    SubQuery(sub_query=\"What fauna is found in this area?\"),\n",
    "]\n",
    "\n",
    "examples.append({\"input\": question, \"tool_calls\": queries})"
   ]
  },
  {
   "cell_type": "code",
   "execution_count": null,
   "metadata": {},
   "outputs": [],
   "source": [
    "question = \"How does the availability of bicycle rental services impact the local culture and transportation habits?\"\n",
    "queries = [\n",
    "    SubQuery(sub_query=\"How does the availability of bicycle rental services impact the local culture?\"),\n",
    "    SubQuery(sub_query=\"How does the availability of bicycle rental services impact the transportation habits?\"),\n",
    "]\n",
    "\n",
    "examples.append({\"input\": question, \"tool_calls\": queries})"
   ]
  },
  {
   "cell_type": "code",
   "execution_count": null,
   "metadata": {},
   "outputs": [],
   "source": [
    "question = \"What safety measures are in place at the nearest beach, and how do they affect visitors' experiences?\"\n",
    "queries = [\n",
    "    SubQuery(sub_query=\"What safety measures are in place at the nearest beach?\"),\n",
    "    SubQuery(sub_query=\"How do they affect visitors' experiences?\"),\n",
    "]\n",
    "\n",
    "examples.append({\"input\": question, \"tool_calls\": queries})"
   ]
  },
  {
   "cell_type": "code",
   "execution_count": null,
   "metadata": {},
   "outputs": [],
   "source": [
    "question = \"How does the high population density in the zone impact the local community and infrastructure?\"\n",
    "queries = [\n",
    "    SubQuery(sub_query=\"How does the high population density in the zone impact the local community?\"),\n",
    "    SubQuery(sub_query=\"How does the high population density in the zone impact the infrastructure?\"),\n",
    "]\n",
    "\n",
    "examples.append({\"input\": question, \"tool_calls\": queries})"
   ]
  },
  {
   "cell_type": "code",
   "execution_count": null,
   "metadata": {},
   "outputs": [],
   "source": [
    "question = \"What actions are being taken in the area to improve the air quality index to a healthy level?\"\n",
    "queries = [\n",
    "    SubQuery(sub_query=\"What air quality index is a healthy level?\"),\n",
    "    SubQuery(sub_query=\"What actions are being taken in the area to improve the air quality index>\"),\n",
    "]\n",
    "\n",
    "examples.append({\"input\": question, \"tool_calls\": queries})"
   ]
  },
  {
   "cell_type": "code",
   "execution_count": null,
   "metadata": {},
   "outputs": [],
   "source": [
    "question = \"What unique offerings do vegan restaurants within a 10-minute drive provide to attract customers?\"\n",
    "queries = [\n",
    "    SubQuery(sub_query=\"\"),\n",
    "    SubQuery(sub_query=\"\"),\n",
    "]\n",
    "\n",
    "examples.append({\"input\": question, \"tool_calls\": queries})"
   ]
  },
  {
   "cell_type": "code",
   "execution_count": null,
   "metadata": {},
   "outputs": [],
   "source": [
    "question = \"What are the advantages and disadvantages of using the direct train service from the current location to the airport?\"\n",
    "queries = [\n",
    "    SubQuery(sub_query=\"What are the advantages of using the direct train service from the current location to the airport?\"),\n",
    "    SubQuery(sub_query=\"What are the disadvantages of using the direct train service from the current location to the airport?\"),\n",
    "]\n",
    "\n",
    "examples.append({\"input\": question, \"tool_calls\": queries})"
   ]
  },
  {
   "cell_type": "code",
   "execution_count": null,
   "metadata": {},
   "outputs": [],
   "source": [
    "question = \"What additional amenities does the nearest hotel offer to enhance guests' stays beyond having a swimming pool?\"\n",
    "queries = [\n",
    "    SubQuery(sub_query=\"What amenities does the nearest hotel offer?\"),\n",
    "    SubQuery(sub_query=\"What ameinites enchance guests' stays?\"),\n",
    "]\n",
    "\n",
    "examples.append({\"input\": question, \"tool_calls\": queries})"
   ]
  }
 ],
 "metadata": {
  "language_info": {
   "name": "python"
  }
 },
 "nbformat": 4,
 "nbformat_minor": 2
}
